{
  "nbformat": 4,
  "nbformat_minor": 0,
  "metadata": {
    "colab": {
      "provenance": [],
      "authorship_tag": "ABX9TyNBcN/GK93TGaNaYTrq8gzC",
      "include_colab_link": true
    },
    "kernelspec": {
      "name": "python3",
      "display_name": "Python 3"
    },
    "language_info": {
      "name": "python"
    }
  },
  "cells": [
    {
      "cell_type": "markdown",
      "metadata": {
        "id": "view-in-github",
        "colab_type": "text"
      },
      "source": [
        "<a href=\"https://colab.research.google.com/github/massawegodii/Machine-Learning-Tutorial/blob/main/chatbot.ipynb\" target=\"_parent\"><img src=\"https://colab.research.google.com/assets/colab-badge.svg\" alt=\"Open In Colab\"/></a>"
      ]
    },
    {
      "cell_type": "markdown",
      "source": [
        "1. Install Required Libraries\n"
      ],
      "metadata": {
        "id": "uI9QA9inFMed"
      }
    },
    {
      "cell_type": "code",
      "execution_count": null,
      "metadata": {
        "colab": {
          "base_uri": "https://localhost:8080/"
        },
        "id": "IycGdesMCK29",
        "outputId": "d6df6e44-d06d-485f-8ca7-b7dcda82d3a4",
        "collapsed": true
      },
      "outputs": [
        {
          "output_type": "stream",
          "name": "stdout",
          "text": [
            "Requirement already satisfied: nltk in /usr/local/lib/python3.11/dist-packages (3.9.1)\n",
            "Requirement already satisfied: newspaper3k in /usr/local/lib/python3.11/dist-packages (0.2.8)\n",
            "Requirement already satisfied: click in /usr/local/lib/python3.11/dist-packages (from nltk) (8.1.8)\n",
            "Requirement already satisfied: joblib in /usr/local/lib/python3.11/dist-packages (from nltk) (1.4.2)\n",
            "Requirement already satisfied: regex>=2021.8.3 in /usr/local/lib/python3.11/dist-packages (from nltk) (2024.11.6)\n",
            "Requirement already satisfied: tqdm in /usr/local/lib/python3.11/dist-packages (from nltk) (4.67.1)\n",
            "Requirement already satisfied: beautifulsoup4>=4.4.1 in /usr/local/lib/python3.11/dist-packages (from newspaper3k) (4.13.3)\n",
            "Requirement already satisfied: Pillow>=3.3.0 in /usr/local/lib/python3.11/dist-packages (from newspaper3k) (11.1.0)\n",
            "Requirement already satisfied: PyYAML>=3.11 in /usr/local/lib/python3.11/dist-packages (from newspaper3k) (6.0.2)\n",
            "Requirement already satisfied: cssselect>=0.9.2 in /usr/local/lib/python3.11/dist-packages (from newspaper3k) (1.2.0)\n",
            "Requirement already satisfied: lxml>=3.6.0 in /usr/local/lib/python3.11/dist-packages (from newspaper3k) (5.3.1)\n",
            "Requirement already satisfied: requests>=2.10.0 in /usr/local/lib/python3.11/dist-packages (from newspaper3k) (2.32.3)\n",
            "Requirement already satisfied: feedparser>=5.2.1 in /usr/local/lib/python3.11/dist-packages (from newspaper3k) (6.0.11)\n",
            "Requirement already satisfied: tldextract>=2.0.1 in /usr/local/lib/python3.11/dist-packages (from newspaper3k) (5.1.3)\n",
            "Requirement already satisfied: feedfinder2>=0.0.4 in /usr/local/lib/python3.11/dist-packages (from newspaper3k) (0.0.4)\n",
            "Requirement already satisfied: jieba3k>=0.35.1 in /usr/local/lib/python3.11/dist-packages (from newspaper3k) (0.35.1)\n",
            "Requirement already satisfied: python-dateutil>=2.5.3 in /usr/local/lib/python3.11/dist-packages (from newspaper3k) (2.8.2)\n",
            "Requirement already satisfied: tinysegmenter==0.3 in /usr/local/lib/python3.11/dist-packages (from newspaper3k) (0.3)\n",
            "Requirement already satisfied: soupsieve>1.2 in /usr/local/lib/python3.11/dist-packages (from beautifulsoup4>=4.4.1->newspaper3k) (2.6)\n",
            "Requirement already satisfied: typing-extensions>=4.0.0 in /usr/local/lib/python3.11/dist-packages (from beautifulsoup4>=4.4.1->newspaper3k) (4.12.2)\n",
            "Requirement already satisfied: six in /usr/local/lib/python3.11/dist-packages (from feedfinder2>=0.0.4->newspaper3k) (1.17.0)\n",
            "Requirement already satisfied: sgmllib3k in /usr/local/lib/python3.11/dist-packages (from feedparser>=5.2.1->newspaper3k) (1.0.0)\n",
            "Requirement already satisfied: charset-normalizer<4,>=2 in /usr/local/lib/python3.11/dist-packages (from requests>=2.10.0->newspaper3k) (3.4.1)\n",
            "Requirement already satisfied: idna<4,>=2.5 in /usr/local/lib/python3.11/dist-packages (from requests>=2.10.0->newspaper3k) (3.10)\n",
            "Requirement already satisfied: urllib3<3,>=1.21.1 in /usr/local/lib/python3.11/dist-packages (from requests>=2.10.0->newspaper3k) (2.3.0)\n",
            "Requirement already satisfied: certifi>=2017.4.17 in /usr/local/lib/python3.11/dist-packages (from requests>=2.10.0->newspaper3k) (2025.1.31)\n",
            "Requirement already satisfied: requests-file>=1.4 in /usr/local/lib/python3.11/dist-packages (from tldextract>=2.0.1->newspaper3k) (2.1.0)\n",
            "Requirement already satisfied: filelock>=3.0.8 in /usr/local/lib/python3.11/dist-packages (from tldextract>=2.0.1->newspaper3k) (3.17.0)\n",
            "Requirement already satisfied: lxml in /usr/local/lib/python3.11/dist-packages (5.3.1)\n",
            "Requirement already satisfied: lxml_html_clean in /usr/local/lib/python3.11/dist-packages (0.4.1)\n",
            "Requirement already satisfied: newspaper3k in /usr/local/lib/python3.11/dist-packages (0.2.8)\n",
            "Requirement already satisfied: beautifulsoup4>=4.4.1 in /usr/local/lib/python3.11/dist-packages (from newspaper3k) (4.13.3)\n",
            "Requirement already satisfied: Pillow>=3.3.0 in /usr/local/lib/python3.11/dist-packages (from newspaper3k) (11.1.0)\n",
            "Requirement already satisfied: PyYAML>=3.11 in /usr/local/lib/python3.11/dist-packages (from newspaper3k) (6.0.2)\n",
            "Requirement already satisfied: cssselect>=0.9.2 in /usr/local/lib/python3.11/dist-packages (from newspaper3k) (1.2.0)\n",
            "Requirement already satisfied: nltk>=3.2.1 in /usr/local/lib/python3.11/dist-packages (from newspaper3k) (3.9.1)\n",
            "Requirement already satisfied: requests>=2.10.0 in /usr/local/lib/python3.11/dist-packages (from newspaper3k) (2.32.3)\n",
            "Requirement already satisfied: feedparser>=5.2.1 in /usr/local/lib/python3.11/dist-packages (from newspaper3k) (6.0.11)\n",
            "Requirement already satisfied: tldextract>=2.0.1 in /usr/local/lib/python3.11/dist-packages (from newspaper3k) (5.1.3)\n",
            "Requirement already satisfied: feedfinder2>=0.0.4 in /usr/local/lib/python3.11/dist-packages (from newspaper3k) (0.0.4)\n",
            "Requirement already satisfied: jieba3k>=0.35.1 in /usr/local/lib/python3.11/dist-packages (from newspaper3k) (0.35.1)\n",
            "Requirement already satisfied: python-dateutil>=2.5.3 in /usr/local/lib/python3.11/dist-packages (from newspaper3k) (2.8.2)\n",
            "Requirement already satisfied: tinysegmenter==0.3 in /usr/local/lib/python3.11/dist-packages (from newspaper3k) (0.3)\n",
            "Requirement already satisfied: soupsieve>1.2 in /usr/local/lib/python3.11/dist-packages (from beautifulsoup4>=4.4.1->newspaper3k) (2.6)\n",
            "Requirement already satisfied: typing-extensions>=4.0.0 in /usr/local/lib/python3.11/dist-packages (from beautifulsoup4>=4.4.1->newspaper3k) (4.12.2)\n",
            "Requirement already satisfied: six in /usr/local/lib/python3.11/dist-packages (from feedfinder2>=0.0.4->newspaper3k) (1.17.0)\n",
            "Requirement already satisfied: sgmllib3k in /usr/local/lib/python3.11/dist-packages (from feedparser>=5.2.1->newspaper3k) (1.0.0)\n",
            "Requirement already satisfied: click in /usr/local/lib/python3.11/dist-packages (from nltk>=3.2.1->newspaper3k) (8.1.8)\n",
            "Requirement already satisfied: joblib in /usr/local/lib/python3.11/dist-packages (from nltk>=3.2.1->newspaper3k) (1.4.2)\n",
            "Requirement already satisfied: regex>=2021.8.3 in /usr/local/lib/python3.11/dist-packages (from nltk>=3.2.1->newspaper3k) (2024.11.6)\n",
            "Requirement already satisfied: tqdm in /usr/local/lib/python3.11/dist-packages (from nltk>=3.2.1->newspaper3k) (4.67.1)\n",
            "Requirement already satisfied: charset-normalizer<4,>=2 in /usr/local/lib/python3.11/dist-packages (from requests>=2.10.0->newspaper3k) (3.4.1)\n",
            "Requirement already satisfied: idna<4,>=2.5 in /usr/local/lib/python3.11/dist-packages (from requests>=2.10.0->newspaper3k) (3.10)\n",
            "Requirement already satisfied: urllib3<3,>=1.21.1 in /usr/local/lib/python3.11/dist-packages (from requests>=2.10.0->newspaper3k) (2.3.0)\n",
            "Requirement already satisfied: certifi>=2017.4.17 in /usr/local/lib/python3.11/dist-packages (from requests>=2.10.0->newspaper3k) (2025.1.31)\n",
            "Requirement already satisfied: requests-file>=1.4 in /usr/local/lib/python3.11/dist-packages (from tldextract>=2.0.1->newspaper3k) (2.1.0)\n",
            "Requirement already satisfied: filelock>=3.0.8 in /usr/local/lib/python3.11/dist-packages (from tldextract>=2.0.1->newspaper3k) (3.17.0)\n"
          ]
        }
      ],
      "source": [
        "!pip install nltk newspaper3k\n",
        "!pip install --upgrade lxml lxml_html_clean newspaper3k\n"
      ]
    },
    {
      "cell_type": "markdown",
      "source": [
        "2. Import Libraries\n"
      ],
      "metadata": {
        "id": "UrxwJ5t1FV9s"
      }
    },
    {
      "cell_type": "code",
      "source": [
        "import nltk\n",
        "import random\n",
        "import string\n",
        "import warnings\n",
        "import numpy as np\n",
        "from newspaper import Article\n",
        "from sklearn.feature_extraction.text import TfidfVectorizer\n",
        "from sklearn.metrics.pairwise import cosine_similarity\n",
        "from sentence_transformers import SentenceTransformer\n",
        "\n",
        "warnings.filterwarnings('ignore')\n",
        "\n",
        "# Download necessary NLTK data\n",
        "nltk.download('punkt', quiet=True)\n",
        "nltk.download('wordnet', quiet=True)\n",
        "nltk.download('punkt_tab', quiet=True)\n"
      ],
      "metadata": {
        "colab": {
          "base_uri": "https://localhost:8080/"
        },
        "id": "bhwHCn_sCTSf",
        "outputId": "ff94e838-3fbb-47f5-92c6-f95b240fe696"
      },
      "execution_count": null,
      "outputs": [
        {
          "output_type": "execute_result",
          "data": {
            "text/plain": [
              "True"
            ]
          },
          "metadata": {},
          "execution_count": 2
        }
      ]
    },
    {
      "cell_type": "markdown",
      "source": [
        "3. Fetch and Process Article\n"
      ],
      "metadata": {
        "id": "8SluodepFZOO"
      }
    },
    {
      "cell_type": "code",
      "source": [
        "# Function to fetch and process article text\n",
        "def get_article_text(url):\n",
        "    try:\n",
        "        article = Article(url)\n",
        "        article.download()\n",
        "        article.parse()\n",
        "        article.nlp()  # Extract key points and summary\n",
        "        return article.text, article.summary\n",
        "    except Exception as e:\n",
        "        print(\"Error fetching article:\", e)\n",
        "        return \"\", \"\"\n",
        "\n",
        "# URL for medical information\n",
        "url = 'https://www.mayoclinic.org/diseases-conditions/chronic-kidney-disease/symptoms-causes/syc-20354521'\n",
        "corpus, summary = get_article_text(url)\n",
        "\n",
        "# Tokenization\n",
        "sent_tokens = nltk.sent_tokenize(corpus)\n",
        "\n",
        "# Use a pre-trained BERT model for similarity scoring\n",
        "bert_model = SentenceTransformer('paraphrase-MiniLM-L6-v2')\n",
        "sentence_embeddings = bert_model.encode(sent_tokens, convert_to_tensor=True)\n"
      ],
      "metadata": {
        "id": "VTIu_7WqCyxH",
        "collapsed": true
      },
      "execution_count": null,
      "outputs": []
    },
    {
      "cell_type": "markdown",
      "source": [
        "4. Process and Clean Input"
      ],
      "metadata": {
        "id": "-nFKl8VOFeD-"
      }
    },
    {
      "cell_type": "code",
      "source": [
        "# Function to process and clean input\n",
        "def lemmatize_sentence(text):\n",
        "    lemmatizer = nltk.WordNetLemmatizer()\n",
        "    return ' '.join([lemmatizer.lemmatize(word.lower()) for word in nltk.word_tokenize(text) if word not in string.punctuation])\n"
      ],
      "metadata": {
        "id": "aYfDSFwDD8Au"
      },
      "execution_count": null,
      "outputs": []
    },
    {
      "cell_type": "markdown",
      "source": [
        "5. Handle Greetings"
      ],
      "metadata": {
        "id": "WrohnLDAFjOs"
      }
    },
    {
      "cell_type": "code",
      "source": [
        "# Greeting responses\n",
        "def greeting_response(text):\n",
        "    text = text.lower()\n",
        "    bot_greetings = ['Howdy!', 'Hi there!', 'Hello!', 'Hey!', 'Hola!']\n",
        "    user_greetings = ['hi', 'hey', 'hello', 'hola', 'greetings', 'wassup', 'whats up']\n",
        "\n",
        "    for word in text.split():\n",
        "        if word in user_greetings:\n",
        "            return random.choice(bot_greetings)\n",
        "    return None\n"
      ],
      "metadata": {
        "id": "gYNPwPGQEFNi"
      },
      "execution_count": null,
      "outputs": []
    },
    {
      "cell_type": "markdown",
      "source": [
        "6. Sort Similarity Scores"
      ],
      "metadata": {
        "id": "3s-ZVAFkFmty"
      }
    },
    {
      "cell_type": "code",
      "source": [
        "# Sorting function\n",
        "def index_sort(similarity_scores):\n",
        "    return sorted(range(len(similarity_scores)), key=lambda i: similarity_scores[i], reverse=True)\n"
      ],
      "metadata": {
        "id": "cyXH7KfqEK3V"
      },
      "execution_count": null,
      "outputs": []
    },
    {
      "cell_type": "markdown",
      "source": [
        "7. Generate Chatbot Response"
      ],
      "metadata": {
        "id": "qCPHdC2ZFrSk"
      }
    },
    {
      "cell_type": "code",
      "source": [
        "# Chatbot response using TF-IDF + BERT embeddings for enhanced accuracy\n",
        "def bot_response(user_input):\n",
        "    user_input = lemmatize_sentence(user_input)\n",
        "\n",
        "    # Encode user input using BERT\n",
        "    user_embedding = bert_model.encode([user_input], convert_to_tensor=True)\n",
        "\n",
        "    # Compute similarity scores\n",
        "    similarity_scores = cosine_similarity(user_embedding.cpu().numpy(), sentence_embeddings.cpu().numpy())[0]\n",
        "\n",
        "    # Get top relevant responses\n",
        "    sorted_indexes = index_sort(similarity_scores)\n",
        "\n",
        "    bot_response = ''\n",
        "    response_flag = False\n",
        "    for i in sorted_indexes[:3]:  # Get top 3 matches\n",
        "        if similarity_scores[i] > 0.2:  # Threshold for relevance\n",
        "            bot_response += sent_tokens[i] + ' '\n",
        "            response_flag = True\n",
        "\n",
        "    if not response_flag:\n",
        "        bot_response = \"I'm sorry, but I couldn't understand your query. Could you rephrase?\"\n",
        "\n",
        "    return bot_response\n"
      ],
      "metadata": {
        "id": "zLTIpkA7ERUD"
      },
      "execution_count": null,
      "outputs": []
    },
    {
      "cell_type": "markdown",
      "source": [
        "8. Run the Chatbot"
      ],
      "metadata": {
        "id": "p5aMC0bmFymd"
      }
    },
    {
      "cell_type": "code",
      "source": [
        "# Memory storage for context-aware conversations\n",
        "chat_memory = []\n",
        "user_warnings = {}  # Dictionary to track abusive language warnings\n",
        "\n",
        "# Sample knowledge base\n",
        "knowledge_base = {\n",
        "    \"signs and symptoms of chronic kidney disease\": \"The common symptoms include swelling in the legs, fatigue, nausea, shortness of breath, and changes in urination patterns.\",\n",
        "    \"symptoms of chronic kidney disease\": \"Chronic kidney disease symptoms include swelling, fatigue, high blood pressure, and changes in urine output.\",\n",
        "    \"sign of kidney disease\": \"Signs of kidney disease can include swelling, back pain, changes in urination, and persistent itching.\"\n",
        "}\n",
        "\n",
        "# Function to check for abusive language\n",
        "def contains_abuse(text):\n",
        "    abusive_words = [\"badword1\", \"badword2\", \"badword3\", \"stupid\", \"idiot\", \"fool\"]\n",
        "    words = text.lower().split()\n",
        "    for word in words:\n",
        "        if word in abusive_words:\n",
        "            return True\n",
        "    return False\n",
        "\n",
        "# Chat interface\n",
        "def chatbot():\n",
        "    print(\"DocBot: I am an advanced AI medical chatbot. Please be respectful. Type 'bye' to exit.\")\n",
        "    exit_list = ['bye', 'quit', 'exit', 'see you later']\n",
        "\n",
        "    while True:\n",
        "        user_input = input(\"You: \")\n",
        "\n",
        "        if user_input.lower() in exit_list:\n",
        "            print(\"DocBot: Goodbye! Stay healthy.\")\n",
        "            break\n",
        "\n",
        "        if contains_abuse(user_input):\n",
        "            user_warnings[\"user\"] = user_warnings.get(\"user\", 0) + 1\n",
        "            if user_warnings[\"user\"] > 2:  # 3rd offense = block\n",
        "                print(\"DocBot: You have been blocked for using abusive language repeatedly.\")\n",
        "                break\n",
        "            else:\n",
        "                print(f\"DocBot: Warning {user_warnings['user']}/3 - Please avoid using offensive language.\")\n",
        "                continue  # Skip processing abusive input\n",
        "\n",
        "        greeting = greeting_response(user_input)\n",
        "        if greeting:\n",
        "            print(\"DocBot:\", greeting)\n",
        "        else:\n",
        "            # Store user queries for memory-based improvements\n",
        "            chat_memory.append(user_input)\n",
        "            print(\"DocBot:\", bot_response(user_input))\n",
        "\n",
        "# Run chatbot\n",
        "chatbot()\n",
        "\n"
      ],
      "metadata": {
        "colab": {
          "base_uri": "https://localhost:8080/"
        },
        "id": "-_Jy-Az5EZQB",
        "outputId": "81823cc0-8a37-4d2a-9699-68f58f78178c"
      },
      "execution_count": null,
      "outputs": [
        {
          "output_type": "stream",
          "name": "stdout",
          "text": [
            "DocBot: I am an advanced AI medical chatbot. Please be respectful. Type 'bye' to exit.\n",
            "DocBot: Hi there!\n",
            "DocBot: We wish you well. \n",
            "DocBot: I'm sorry, but I couldn't understand your query. Could you rephrase?\n",
            "DocBot: And as kidney disease progresses, you may notice the following symptoms. Chronic kidney disease is a disease characterized by progressive damage and loss of function in the kidneys. Urine tests can reveal abnormalities and give clues to the underlying cause of the chronic kidney disease. \n",
            "DocBot: Chronic kidney disease is a disease characterized by progressive damage and loss of function in the kidneys. It's estimated that chronic kidney disease affects about one in seven American adults. In this video, we'll cover the basics of chronic kidney disease. \n",
            "DocBot: We wish you well. Whether you are looking for answers for yourself or for someone you love, we're here to give you the best information available. It can be helpful to talk to someone you trust, a friend or relative who's good at listening. \n",
            "DocBot: Who gets it? We wish you well. What is it? \n",
            "DocBot: Warning 1/3 - Please avoid using offensive language.\n",
            "DocBot: I'm sorry, but I couldn't understand your query. Could you rephrase?\n",
            "DocBot: Nausea and vomiting, muscle cramps, loss of appetite, swelling via feet and ankles, dry, itchy skin, shortness of breath, trouble sleeping, urinating either too much or too little. The symptoms, diagnosis and treatment. And as kidney disease progresses, you may notice the following symptoms. \n",
            "DocBot: But if you're experiencing anything that concerns you, you should make an appointment with your doctor. Or your doctor could also refer you to a therapist or social worker. I'm Dr. Andrew Bentall, a kidney doctor at Mayo Clinic. \n",
            "DocBot: We wish you well. Namely quit smoking. And even then, there is plenty of hope. \n",
            "DocBot: Treatment is determined by what is causing your kidneys to not function normally. Treating the cause is key, leading to reduced complications and slowing progression of kidney disease. Where possible, the preferred therapy is a kidney transplant. \n",
            "DocBot: Hola!\n",
            "You: hi\n",
            "DocBot: Howdy!\n"
          ]
        }
      ]
    },
    {
      "cell_type": "code",
      "source": [],
      "metadata": {
        "id": "DbWPI9nL83UR"
      },
      "execution_count": null,
      "outputs": []
    }
  ]
}